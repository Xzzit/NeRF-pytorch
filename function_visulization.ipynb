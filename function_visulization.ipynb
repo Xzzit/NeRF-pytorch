{
 "cells": [
  {
   "cell_type": "markdown",
   "id": "39563d5c-b8aa-4bf0-9e22-6beac8072cf2",
   "metadata": {
    "tags": []
   },
   "source": [
    "# 1. Loading Data: `load_blender_data`"
   ]
  },
  {
   "cell_type": "code",
   "execution_count": 1,
   "id": "eda7bf83-5ad6-4a6a-bb10-f62aff336752",
   "metadata": {},
   "outputs": [
    {
     "data": {
      "image/png": "[encoded data removed]",
      "text/plain": [
       "<Figure size 640x480 with 1 Axes>"
      ]
     },
     "metadata": {},
     "output_type": "display_data"
    },
    {
     "name": "stdout",
     "output_type": "stream",
     "text": [
      "images shape:  (106, 100, 100, 4)\n",
      "poses shape:  (106, 4, 4)\n",
      "render_poses shape:  torch.Size([40, 4, 4])\n",
      "hwf:  [100, 100, 138.88887889922103]\n"
     ]
    }
   ],
   "source": [
    "# Load data\n",
    "from dataloader.load_blender import load_blender_data\n",
    "from matplotlib import pyplot as plt\n",
    "\n",
    "datadir = 'data/nerf_synthetic/lego'\n",
    "\n",
    "images, poses, render_poses, hwf, i_split = load_blender_data(datadir, testskip=50, res_fac=8)\n",
    "plt.imshow(images[0])\n",
    "plt.show()\n",
    "\n",
    "print('images shape: ', images.shape)\n",
    "print('poses shape: ', poses.shape)\n",
    "print('render_poses shape: ', render_poses.shape)\n",
    "print('hwf: ', hwf)"
   ]
  },
  {
   "cell_type": "markdown",
   "id": "55ce95ad-0817-4cf6-837b-f859ab36e29e",
   "metadata": {
    "tags": []
   },
   "source": [
    "# 2. Creating NeRF model: `create_nerf`"
   ]
  },
  {
   "cell_type": "code",
   "execution_count": 24,
   "id": "5664d8ef-b798-457b-9aad-b252c061a293",
   "metadata": {},
   "outputs": [],
   "source": [
    "import torch\n",
    "\n",
    "# Dependencies for 2.1\n",
    "from utils import Embedder, get_embedder\n",
    "\n",
    "# Dependencies for 2.2\n",
    "from utils import NeRF\n",
    "\n",
    "# Dependencies for 2.3\n",
    "from utils import get_rays"
   ]
  },
  {
   "cell_type": "markdown",
   "id": "d924b709-5ea6-4f36-8660-f86980696d47",
   "metadata": {
    "tags": []
   },
   "source": [
    "## 2.1 Creating Positional Embedding Function: `Embedder` and `get_embedder`"
   ]
  },
  {
   "cell_type": "code",
   "execution_count": 16,
   "id": "04f78422-1450-47b4-be9c-7fe9d38c0a02",
   "metadata": {},
   "outputs": [
    {
     "name": "stdout",
     "output_type": "stream",
     "text": [
      "torch.Size([10, 27])\n"
     ]
    }
   ],
   "source": [
    "inputs = torch.randn(10, 3)\n",
    "emfn, ch = get_embedder(4)\n",
    "outputs = emfn(inputs)\n",
    "print(outputs.shape)"
   ]
  },
  {
   "cell_type": "markdown",
   "id": "74ccd2fb-8a1e-4af1-bf75-09c6e2cab082",
   "metadata": {},
   "source": [
    "## 2.2 Initialize NeRF model: `NeRF`"
   ]
  },
  {
   "cell_type": "code",
   "execution_count": 23,
   "id": "c101a150-9c6e-40de-8ec6-a9fec42a7d77",
   "metadata": {},
   "outputs": [
    {
     "data": {
      "text/plain": [
       "torch.Size([10, 4])"
      ]
     },
     "execution_count": 23,
     "metadata": {},
     "output_type": "execute_result"
    }
   ],
   "source": [
    "model = NeRF(D=4, W=64,\n",
    "             input_ch=ch, output_ch=4, skips=[4],\n",
    "             input_ch_views=0, use_viewdirs=False)\n",
    "\n",
    "model(outputs).shape"
   ]
  },
  {
   "cell_type": "markdown",
   "id": "a23cfc22-9b19-4164-a5ae-02fda3d914bd",
   "metadata": {},
   "source": [
    "## 2.3 Generate rays: `get_rays`"
   ]
  },
  {
   "cell_type": "code",
   "execution_count": 29,
   "id": "a34a33cb-9f32-4add-aeab-ed9726e95b49",
   "metadata": {},
   "outputs": [
    {
     "name": "stdout",
     "output_type": "stream",
     "text": [
      "torch.Size([800, 800, 3])\n"
     ]
    }
   ],
   "source": [
    "K = torch.tensor([[1,0,0], [0,1,0], [0,0,1]])\n",
    "c2w = torch.randn(3,3)\n",
    "rays = get_rays(800, 800, K, c2w)\n",
    "print(rays[0].shape)"
   ]
  },
  {
   "cell_type": "code",
   "execution_count": null,
   "id": "7b86729c-2b7d-4b42-8442-249f11a95d90",
   "metadata": {},
   "outputs": [],
   "source": []
  }
 ],
 "metadata": {
  "kernelspec": {
   "display_name": "Python 3 (ipykernel)",
   "language": "python",
   "name": "python3"
  },
  "language_info": {
   "codemirror_mode": {
    "name": "ipython",
    "version": 3
   },
   "file_extension": ".py",
   "mimetype": "text/x-python",
   "name": "python",
   "nbconvert_exporter": "python",
   "pygments_lexer": "ipython3",
   "version": "3.8.13"
  }
 },
 "nbformat": 4,
 "nbformat_minor": 5
}
